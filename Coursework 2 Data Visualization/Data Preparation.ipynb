{
 "cells": [
  {
   "cell_type": "code",
   "execution_count": 1,
   "metadata": {},
   "outputs": [
    {
     "name": "stdout",
     "output_type": "stream",
     "text": [
      "ghgs: μ=6.17, σ=3.09\n",
      "ghgs_ch4: μ=1.14, σ=0.77\n",
      "ghgs_n2o: μ=0.44, σ=0.23\n",
      "\n",
      "Emission grade distribution:\n",
      "emission_level\n",
      "Low Emission       54647\n",
      "High Emission      10399\n",
      "Medium Emission     6954\n",
      "Name: count, dtype: int64\n"
     ]
    }
   ],
   "source": [
    "import pandas as pd\n",
    "\n",
    "# Configuration weight\n",
    "GAS_WEIGHTS = {\n",
    "    'ghgs': 0.6,      \n",
    "    'ghgs_ch4': 0.3,  \n",
    "    'ghgs_n2o': 0.1   \n",
    "}\n",
    "\n",
    "# Emissions Level\n",
    "THRESHOLDS = {\n",
    "    'high': 1.0,    # weighted_score ≥ 1.0 → High Emission\n",
    "    'medium': 0.5   # 0.5 ≤ score < 1.0 → Medium Emission\n",
    "}                   # score < 0.5 → Low Emission\n",
    "\n",
    "df = pd.read_csv(\"Results_21Mar2022.csv\")\n",
    "\n",
    "gases = ['ghgs', 'ghgs_ch4', 'ghgs_n2o']\n",
    "global_params = {}\n",
    "\n",
    "for gas in gases:\n",
    "    mean_col = f\"mean_{gas}\"\n",
    "    mean_values = df[mean_col]\n",
    "    global_params[gas] = {\n",
    "        'mu': mean_values.mean(),\n",
    "        'sigma': mean_values.std(ddof=0)\n",
    "    }\n",
    "    print(f\"{gas}: μ={global_params[gas]['mu']:.2f}, σ={global_params[gas]['sigma']:.2f}\")\n",
    "\n",
    "def calculate_weighted_score(row):\n",
    "    score = 0\n",
    "    for gas in gases:\n",
    "        z_score = (row[f'mean_{gas}'] - global_params[gas]['mu']) / global_params[gas]['sigma']\n",
    "        score += z_score * GAS_WEIGHTS[gas]\n",
    "    return score\n",
    "\n",
    "df['weighted_score'] = df.apply(calculate_weighted_score, axis=1)\n",
    "\n",
    "def classify_emission(score):\n",
    "    if score >= THRESHOLDS['high']:\n",
    "        return \"High Emission\"\n",
    "    elif score >= THRESHOLDS['medium']:\n",
    "        return \"Medium Emission\"\n",
    "    else:\n",
    "        return \"Low Emission\"\n",
    "\n",
    "df['emission_level'] = df['weighted_score'].apply(classify_emission)\n",
    "\n",
    "\n",
    "# THRESHOLDS['high'] = df['weighted_score'].quantile(0.75)  # 25% High Emission\n",
    "# THRESHOLDS['medium'] = df['weighted_score'].quantile(0.5) # medium 25%~50% is Medium Emission\n",
    "\n",
    "df_sorted = df.sort_values('weighted_score', ascending=False)\n",
    "df_sorted.to_csv(\"Results_with_emission_levels.csv\", index=False)\n",
    "\n",
    "print(\"\\nEmission grade distribution:\")\n",
    "print(df['emission_level'].value_counts())"
   ]
  }
 ],
 "metadata": {
  "kernelspec": {
   "display_name": "Python 3",
   "language": "python",
   "name": "python3"
  },
  "language_info": {
   "codemirror_mode": {
    "name": "ipython",
    "version": 3
   },
   "file_extension": ".py",
   "mimetype": "text/x-python",
   "name": "python",
   "nbconvert_exporter": "python",
   "pygments_lexer": "ipython3",
   "version": "3.12.3"
  }
 },
 "nbformat": 4,
 "nbformat_minor": 2
}
